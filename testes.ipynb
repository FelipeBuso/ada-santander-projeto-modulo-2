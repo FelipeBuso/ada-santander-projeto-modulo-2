{
 "cells": [
  {
   "cell_type": "code",
   "execution_count": null,
   "metadata": {},
   "outputs": [],
   "source": [
    "\n",
    "class Medicamentos:\n",
    "    def __init__(self, \n",
    "                 nome: str, \n",
    "                 principio_ativo: str, \n",
    "                 laboratorio: Laboratorios, \n",
    "                 descricao: str, \n",
    "                 preco: float ):\n",
    "        self._nome = nome\n",
    "        self._principio_ativo = principio_ativo\n",
    "        self._laboratorio = laboratorio\n",
    "        self._descricao = descricao\n",
    "        self._preco = preco\n",
    "        \n",
    "    @property\n",
    "    def nome(self):\n",
    "        return self._nome\n",
    "    \n",
    "    @property\n",
    "    def principio_ativo(self):\n",
    "        return self.__principio_ativo\n",
    "    \n",
    "    @property\n",
    "    def laboratorio(self):\n",
    "        return self._laboratorio\n",
    "    \n",
    "    @property\n",
    "    def descricao(self):\n",
    "        return self._descricao\n",
    "    \n",
    "    @property\n",
    "    def preco(self):\n",
    "        return self._preco\n",
    "    \n",
    "\n",
    "class MedicamentosQuimioterapicos(Medicamentos):\n",
    "    def __init__(self, \n",
    "                 nome: str, \n",
    "                 principio_ativo: str, \n",
    "                 laboratorio: Laboratorios, \n",
    "                 descricao: str, \n",
    "                 preco: float,\n",
    "                 necessita_receita: bool):\n",
    "        self._necessita_receita = necessita_receita\n",
    "        super().__init__(nome, principio_ativo, laboratorio, descricao, preco)\n",
    "    \n",
    "    @property\n",
    "    def necessita_receita(self):\n",
    "        return self._necessita_receita\n",
    "\n",
    "\n",
    "class MedicamentosFitoterapicos(Medicamentos):\n",
    "    def __init__(self, \n",
    "                 nome: str, \n",
    "                 principio_ativo: str, \n",
    "                 laboratorio: Laboratorios, \n",
    "                 descricao: str,\n",
    "                 preco: float):\n",
    "        super().__init__(nome, principio_ativo, laboratorio, descricao, preco)\n",
    "\n",
    "\n",
    "\n",
    "class Vendas:\n",
    "    def __init__(self, data: str, hora: str, produto: Medicamentos, cliente: Clientes, valor_total: float):\n",
    "        self._data_hora = datetime.strptime(f\"{data} {hora}\", \"%d/%m/%Y %H:%M\")\n",
    "        self._produto = produto\n",
    "        self._cliente = cliente\n",
    "        self._valor_total = valor_total\n",
    "    \n",
    "    @property\n",
    "    def data_hora(self):\n",
    "        return self._data_hora\n",
    "    \n",
    "    @property\n",
    "    def produto(self):\n",
    "        return self._produto\n",
    "    \n",
    "    @property\n",
    "    def cliente(self):\n",
    "        return self._cliente\n",
    "    \n",
    "    @property\n",
    "    def valor_total(self):\n",
    "        return self._valor_total\n",
    "        "
   ]
  },
  {
   "cell_type": "code",
   "execution_count": 1,
   "metadata": {},
   "outputs": [
    {
     "data": {
      "text/plain": [
       "'Raquel'"
      ]
     },
     "execution_count": 1,
     "metadata": {},
     "output_type": "execute_result"
    }
   ],
   "source": [
    "from clientes.clientes import Clientes\n",
    "\n",
    "cli = Clientes()\n",
    "cli.buscar_cliente(\"77542415603\")\n",
    "cli.nome"
   ]
  },
  {
   "cell_type": "code",
   "execution_count": 2,
   "metadata": {},
   "outputs": [
    {
     "name": "stdout",
     "output_type": "stream",
     "text": [
      "{'bd_clientes': {'55702383524': {'nome': 'Anderson', 'data_nascimento': '2002-04-01T00:00:00'}, '77542415603': {'nome': 'Raquel', 'data_nascimento': '2000-01-01T00:00:00'}}, 'bd_laboratorios': {'58066331000104': {'nome': 'EMS', 'endereco': 'Rua Um', 'telefone': '1144445555', 'cidade': 'São Paulo', 'estado': 'SP'}, '75380556000150': {'nome': 'Aché', 'endereco': 'Rua Dois', 'telefone': '1122223333', 'cidade': 'Belo Horizonte', 'estado': 'MG'}, '42224316000107': {'nome': 'Medley', 'endereco': 'Rua Três', 'telefone': '1166667777', 'cidade': 'Cascavel', 'estado': 'PR'}}}\n",
      "Maria\n",
      "18596332499\n"
     ]
    }
   ],
   "source": [
    "from clientes.clientes import Clientes\n",
    "\n",
    "c1 = Clientes()\n",
    "c1.cadastrar_cliente(\"Maria\", \"18596332499\", \"23/05/1990\")\n",
    "print(c1.nome)\n",
    "print(c1.cpf)"
   ]
  },
  {
   "cell_type": "code",
   "execution_count": 1,
   "metadata": {},
   "outputs": [
    {
     "name": "stdout",
     "output_type": "stream",
     "text": [
      "{'cpf': '55702383524', 'nome': 'Anderson', 'data_nascimento': '2002-04-01T00:00:00'}\n",
      "None\n",
      "{'bd_clientes': {'55702383524': {'nome': 'Anderson', 'data_nascimento': '2002-04-01T00:00:00'}}, 'bd_laboratorios': {'58066331000104': {'nome': 'EMS', 'endereco': 'Rua Um', 'telefone': '1144445555', 'cidade': 'São Paulo', 'estado': 'SP'}, '75380556000150': {'nome': 'Aché', 'endereco': 'Rua Dois', 'telefone': '1122223333', 'cidade': 'Belo Horizonte', 'estado': 'MG'}, '42224316000107': {'nome': 'Medley', 'endereco': 'Rua Três', 'telefone': '1166667777', 'cidade': 'Cascavel', 'estado': 'PR'}}}\n",
      "Raquel\n",
      "77542415603\n"
     ]
    }
   ],
   "source": [
    "from clientes.clientes import Clientes\n",
    "\n",
    "cli = Clientes()\n",
    "print(cli.relatorio_clientes())\n",
    "cli.cadastrar_cliente(\"Raquel\", \"77542415603\", \"01/01/2000\")\n",
    "\n",
    "print(cli.nome)\n",
    "print(cli.cpf)\n",
    "# print(cli.relatorio_clientes())\n"
   ]
  },
  {
   "cell_type": "code",
   "execution_count": null,
   "metadata": {},
   "outputs": [],
   "source": [
    "cli = Clientes(\"teste cpf\", \"1234567890\", \"17/05/1977\")\n",
    "print(cli.cpf)\n",
    "cli2 = Clientes(\"teste cpf2\", \"27044261809\", \"17/05/1977\")\n",
    "print(cli2.cpf)\n",
    "\n",
    "print(cli2.buscar_cliente(\"27044261809\"))"
   ]
  },
  {
   "cell_type": "code",
   "execution_count": null,
   "metadata": {},
   "outputs": [],
   "source": [
    "from laboratorios.laboratorios import Laboratorios\n",
    "\n",
    "lab = Laboratorios()\n",
    "lab.buscar_laboratorio(\"75380556000150\")\n",
    "print(lab.nome)\n",
    "lab1 = Laboratorios()\n",
    "lab1.cadastrar_laboratorio(\"90884813000184\", \"Eurofarma\",\"Rua Cinco\", \"3112345678\", \"Cofins\", \"MG\")\n",
    "print(lab1.nome)\n",
    "print(lab1.cnpj)"
   ]
  },
  {
   "cell_type": "code",
   "execution_count": null,
   "metadata": {},
   "outputs": [],
   "source": [
    "# lab = Laboratorios(\"Aché\", \"endereço n° 1\", \"(99) 1234-5678\", \"Bacurau\", \"UF\")\n",
    "# med = MedicamentosQuimioterapicos(\"remedio\", \"dipirona\", lab, \"contra a febre\", 10.0, True)\n",
    "# cli = Clientes(\"cliente\", \"123.456.789-10\", \"01/01/2000\")\n",
    "# cli.data_nascimento\n",
    "# venda = Vendas(\"09/08/2023\", \"12:45\", med, cli, 100.0)\n",
    "# print(venda.data_hora)\n",
    "# print(venda.cliente.nome)\n",
    "# print(venda.cliente.cpf)\n",
    "# print(venda.produto.nome)\n",
    "# print(venda.cliente.data_nascimento)\n"
   ]
  }
 ],
 "metadata": {
  "kernelspec": {
   "display_name": ".modulo2",
   "language": "python",
   "name": "python3"
  },
  "language_info": {
   "codemirror_mode": {
    "name": "ipython",
    "version": 3
   },
   "file_extension": ".py",
   "mimetype": "text/x-python",
   "name": "python",
   "nbconvert_exporter": "python",
   "pygments_lexer": "ipython3",
   "version": "3.10.8"
  },
  "orig_nbformat": 4
 },
 "nbformat": 4,
 "nbformat_minor": 2
}
