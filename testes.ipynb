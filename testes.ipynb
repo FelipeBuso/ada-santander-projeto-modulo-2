{
 "cells": [
  {
   "cell_type": "code",
   "execution_count": null,
   "metadata": {},
   "outputs": [],
   "source": [
    "\n",
    "class Medicamentos:\n",
    "    def __init__(self, \n",
    "                 nome: str, \n",
    "                 principio_ativo: str, \n",
    "                 laboratorio: Laboratorios, \n",
    "                 descricao: str, \n",
    "                 preco: float ):\n",
    "        self._nome = nome\n",
    "        self._principio_ativo = principio_ativo\n",
    "        self._laboratorio = laboratorio\n",
    "        self._descricao = descricao\n",
    "        self._preco = preco\n",
    "        \n",
    "    @property\n",
    "    def nome(self):\n",
    "        return self._nome\n",
    "    \n",
    "    @property\n",
    "    def principio_ativo(self):\n",
    "        return self.__principio_ativo\n",
    "    \n",
    "    @property\n",
    "    def laboratorio(self):\n",
    "        return self._laboratorio\n",
    "    \n",
    "    @property\n",
    "    def descricao(self):\n",
    "        return self._descricao\n",
    "    \n",
    "    @property\n",
    "    def preco(self):\n",
    "        return self._preco\n",
    "    \n",
    "\n",
    "class MedicamentosQuimioterapicos(Medicamentos):\n",
    "    def __init__(self, \n",
    "                 nome: str, \n",
    "                 principio_ativo: str, \n",
    "                 laboratorio: Laboratorios, \n",
    "                 descricao: str, \n",
    "                 preco: float,\n",
    "                 necessita_receita: bool):\n",
    "        self._necessita_receita = necessita_receita\n",
    "        super().__init__(nome, principio_ativo, laboratorio, descricao, preco)\n",
    "    \n",
    "    @property\n",
    "    def necessita_receita(self):\n",
    "        return self._necessita_receita\n",
    "\n",
    "\n",
    "class MedicamentosFitoterapicos(Medicamentos):\n",
    "    def __init__(self, \n",
    "                 nome: str, \n",
    "                 principio_ativo: str, \n",
    "                 laboratorio: Laboratorios, \n",
    "                 descricao: str,\n",
    "                 preco: float):\n",
    "        super().__init__(nome, principio_ativo, laboratorio, descricao, preco)\n",
    "\n",
    "\n",
    "\n",
    "class Vendas:\n",
    "    def __init__(self, data: str, hora: str, produto: Medicamentos, cliente: Clientes, valor_total: float):\n",
    "        self._data_hora = datetime.strptime(f\"{data} {hora}\", \"%d/%m/%Y %H:%M\")\n",
    "        self._produto = produto\n",
    "        self._cliente = cliente\n",
    "        self._valor_total = valor_total\n",
    "    \n",
    "    @property\n",
    "    def data_hora(self):\n",
    "        return self._data_hora\n",
    "    \n",
    "    @property\n",
    "    def produto(self):\n",
    "        return self._produto\n",
    "    \n",
    "    @property\n",
    "    def cliente(self):\n",
    "        return self._cliente\n",
    "    \n",
    "    @property\n",
    "    def valor_total(self):\n",
    "        return self._valor_total\n",
    "        "
   ]
  },
  {
   "cell_type": "code",
   "execution_count": null,
   "metadata": {},
   "outputs": [],
   "source": [
    "from clientes.clientes import Clientes\n",
    "\n",
    "cli = Clientes()\n",
    "cli.buscar_cliente(\"123456789\")\n",
    "cli.nome"
   ]
  },
  {
   "cell_type": "code",
   "execution_count": null,
   "metadata": {},
   "outputs": [],
   "source": [
    "from clientes.clientes import Clientes\n",
    "\n",
    "c1 = Clientes()\n",
    "c1.cadastrar_cliente(\"Roberta\", \"13458516388\", \"12/05/2000\")\n",
    "c1.buscar_cliente(\"17898516566\")\n",
    "print(c1.nome)\n",
    "print(c1.cpf)"
   ]
  },
  {
   "cell_type": "code",
   "execution_count": null,
   "metadata": {},
   "outputs": [],
   "source": [
    "from clientes.clientes import Clientes\n",
    "\n",
    "c1 = Clientes()\n",
    "c1.excluir_cliente(\"13458516388\")\n",
    "# c1.buscar_cliente(\"13458516388\")\n",
    "# print(c1.nome)\n",
    "# print(c1.cpf)"
   ]
  },
  {
   "cell_type": "code",
   "execution_count": null,
   "metadata": {},
   "outputs": [],
   "source": [
    "from clientes.clientes import Clientes\n",
    "\n",
    "cli = Clientes()\n",
    "print(cli.relatorio_clientes())\n",
    "cli.cadastrar_cliente(\"Roberta\", \"13458516388\", \"12/05/2000\")\n",
    "\n",
    "print(cli.nome)\n",
    "print(cli.cpf)\n",
    "# print(cli.relatorio_clientes())\n"
   ]
  },
  {
   "cell_type": "code",
   "execution_count": null,
   "metadata": {},
   "outputs": [],
   "source": [
    "cli = Clientes(\"teste cpf\", \"1234567890\", \"17/05/1977\")\n",
    "print(cli.cpf)\n",
    "cli2 = Clientes(\"teste cpf2\", \"27044261809\", \"17/05/1977\")\n",
    "print(cli2.cpf)\n",
    "\n",
    "print(cli2.buscar_cliente(\"27044261809\"))"
   ]
  },
  {
   "cell_type": "code",
   "execution_count": null,
   "metadata": {},
   "outputs": [],
   "source": [
    "from laboratorios.laboratorios import Laboratorios\n",
    "\n",
    "lab = Laboratorios()\n",
    "lab.buscar_laboratorio(\"75380556000150\")\n",
    "print(lab.nome)\n",
    "lab1 = Laboratorios()\n",
    "lab1.cadastrar_laboratorio(\"90884813000184\", \"Eurofarma\",\"Rua Cinco\", \"3112345678\", \"Cofins\", \"MG\")\n",
    "print(lab1.nome)\n",
    "print(lab1.cnpj)"
   ]
  },
  {
   "cell_type": "code",
   "execution_count": null,
   "metadata": {},
   "outputs": [],
   "source": [
    "from laboratorios.laboratorios import Laboratorios\n",
    "\n",
    "lab = Laboratorios()\n",
    "lab.buscar_laboratorio(\"75380556000150\")\n",
    "print(lab.nome)"
   ]
  },
  {
   "cell_type": "code",
   "execution_count": null,
   "metadata": {},
   "outputs": [],
   "source": [
    "from laboratorios.laboratorios import Laboratorios\n",
    "\n",
    "lab = Laboratorios()\n",
    "lab.cadastrar_laboratorio(\"67736004000103\", \"Cimed\", \"Rua Seis\", \"214321-9876\", \"Rio de Janeiro\", \"RJ\")\n",
    "print(lab.nome)"
   ]
  },
  {
   "cell_type": "code",
   "execution_count": null,
   "metadata": {},
   "outputs": [],
   "source": [
    "# lab = Laboratorios(\"Aché\", \"endereço n° 1\", \"(99) 1234-5678\", \"Bacurau\", \"UF\")\n",
    "# med = MedicamentosQuimioterapicos(\"remedio\", \"dipirona\", lab, \"contra a febre\", 10.0, True)\n",
    "# cli = Clientes(\"cliente\", \"123.456.789-10\", \"01/01/2000\")\n",
    "# cli.data_nascimento\n",
    "# venda = Vendas(\"09/08/2023\", \"12:45\", med, cli, 100.0)\n",
    "# print(venda.data_hora)\n",
    "# print(venda.cliente.nome)\n",
    "# print(venda.cliente.cpf)\n",
    "# print(venda.produto.nome)\n",
    "# print(venda.cliente.data_nascimento)\n"
   ]
  },
  {
   "cell_type": "code",
   "execution_count": null,
   "metadata": {},
   "outputs": [],
   "source": [
    "from laboratorios.laboratorios import Laboratorios\n",
    "from medicamentos.medicamentos import MedicamentosFitoterapicos, MedicamentosQuimioterapicos\n",
    "\n",
    "lab = Laboratorios()\n",
    "lab.buscar_laboratorio(\"75380556000150\")\n",
    "print(lab.nome)\n",
    "\n",
    "med = MedicamentosQuimioterapicos()\n",
    "med.cadastrar_medicamento(\"Trezor 20mg\", \n",
    "    \"Rosuvastatina Calcica\", \n",
    "    lab, \n",
    "    \"Trezor 20mg Aché 30 Comprimidos (rosuvastatina cálcica) é utilizado para auxiliar no tratamento de redução de lipídios do sangue, em especial dos níveis de colesterol, mau colesterol (LDL), ApoB e triglicérides. Utilize de acordo com a prescrição médica.\",\n",
    "    39.95,\n",
    "    True,\n",
    "    15.0)\n",
    "\n"
   ]
  },
  {
   "cell_type": "code",
   "execution_count": null,
   "metadata": {},
   "outputs": [],
   "source": [
    "from laboratorios.laboratorios import Laboratorios\n",
    "from medicamentos.medicamentos import MedicamentosFitoterapicos, MedicamentosQuimioterapicos\n",
    "\n",
    "lab = Laboratorios()\n",
    "lab.buscar_laboratorio(\"67736004000103\")\n",
    "print(lab.nome)\n",
    "\n",
    "med = MedicamentosFitoterapicos()\n",
    "med.cadastrar_medicamento(\"Pasalix Marjan - 20 Drágeas\", \n",
    "    \"Passiflora incarnata L\", \n",
    "    lab, \n",
    "    \"Pasalix Marjan - 20 Drágeas é destinado para o tratamento da ansiedade e insônia. É constituído por extratos de três plantas medicinais tradicionalmente usadas de forma isolada: A Passiflora incarnata provoca sedação e diminui a ansiedade. O Crataegus oxyacantha também tem ação sedativa no cérebro. A Salix alba tem ação analgésica, antipirética (controle da febre) e anti-inflamatória (diminui a inflamação). A associação destes 3 extratos fitoterápicos alivia quadros de ansiedade e melhora a qualidade do sono.\",\n",
    "    46.99,\n",
    "    6.0)"
   ]
  },
  {
   "cell_type": "code",
   "execution_count": null,
   "metadata": {},
   "outputs": [],
   "source": [
    "from medicamentos.medicamentos import MedicamentosFitoterapicos, MedicamentosQuimioterapicos\n",
    "med = MedicamentosFitoterapicos()\n",
    "medicamento = med.buscar_medicamento(\"1\")\n",
    "print(medicamento)"
   ]
  },
  {
   "cell_type": "code",
   "execution_count": null,
   "metadata": {},
   "outputs": [],
   "source": [
    "from medicamentos.medicamentos import MedicamentosFitoterapicos\n",
    "med = MedicamentosFitoterapicos()\n",
    "med.pesquisa_medicamento_nome(\"pasa\")\n"
   ]
  },
  {
   "cell_type": "code",
   "execution_count": null,
   "metadata": {},
   "outputs": [],
   "source": [
    "from laboratorios.laboratorios import Laboratorios\n",
    "from medicamentos.medicamentos import MedicamentosFitoterapicos, MedicamentosQuimioterapicos\n",
    "\n",
    "lab = Laboratorios()\n",
    "lab.buscar_laboratorio(\"75380556000150\")\n",
    "med = MedicamentosQuimioterapicos()\n",
    "med.pesquisa_medicamento_laboratorio(lab)"
   ]
  },
  {
   "cell_type": "code",
   "execution_count": null,
   "metadata": {},
   "outputs": [],
   "source": [
    "from medicamentos.medicamentos import MedicamentosFitoterapicos\n",
    "med = MedicamentosFitoterapicos()\n",
    "med.pesquisa_medicamento_descricao(\"redução de lipídios\")\n"
   ]
  },
  {
   "cell_type": "code",
   "execution_count": null,
   "metadata": {},
   "outputs": [],
   "source": [
    "from medicamentos.medicamentos import MedicamentosQuimioterapicos\n",
    "med = MedicamentosQuimioterapicos()\n",
    "med.lista_medicamentos()"
   ]
  },
  {
   "cell_type": "code",
   "execution_count": null,
   "metadata": {},
   "outputs": [],
   "source": [
    "from medicamentos.medicamentos import MedicamentosFitoterapicos\n",
    "med = MedicamentosFitoterapicos()\n",
    "med.lista_medicamentos()"
   ]
  },
  {
   "cell_type": "code",
   "execution_count": null,
   "metadata": {},
   "outputs": [],
   "source": [
    "from module.module import ler_arquivo, salvar_arquivo\n",
    "from datetime import datetime\n",
    "\n",
    "db = ler_arquivo()\n",
    "\n",
    "db_dt_nascimento_ajustado = dict()\n",
    "\n",
    "for cpf, cliente in db['bd_clientes'].items():\n",
    "    dt_list = datetime.strptime(cliente['data_nascimento'], '%Y/%m/%d').strftime('%d/%m/%Y')\n",
    "    # print(dt_list)\n",
    "    cliente['data_nascimento'] = dt_list\n",
    "    db_dt_nascimento_ajustado[cpf] = cliente\n",
    "\n",
    "db['bd_clientes'] = db_dt_nascimento_ajustado\n",
    "salvar_arquivo(db)"
   ]
  },
  {
   "cell_type": "code",
   "execution_count": 3,
   "metadata": {},
   "outputs": [
    {
     "name": "stdout",
     "output_type": "stream",
     "text": [
      "{'nome': 'Maria', 'data_nascimento': '23/05/1990', 'ativo': True}\n",
      "{'nome': 'EMS', 'endereco': 'Rua Um', 'telefone': '1144445555', 'cidade': 'São Paulo', 'estado': 'SP'}\n"
     ]
    }
   ],
   "source": [
    "from utils.utils import preencher_documento\n",
    "\n",
    "print(preencher_documento(\"18596332499\", \"bd_clientes\"))\n",
    "print(preencher_documento(\"58066331000104\", \"bd_laboratorios\"))"
   ]
  },
  {
   "cell_type": "code",
   "execution_count": null,
   "metadata": {},
   "outputs": [],
   "source": [
    "# def cadastra_venda(self, medicamento: Medicamentos, qtde_venda) -> None:\n",
    "#     dados_bd = ler_arquivo()\n",
    "#     bd_medicamentos = dados_bd['bd_medicamentos']\n",
    "#     id_medicamento = medicamento.id\n",
    "#     if qtde_venda > bd_medicamentos[id_medicamento]['quantidade_estoque']:\n",
    "#         raise ExcecaoVendas(\"Estoque insuficiente\")\n",
    "\n",
    "#     nova_venda = {\n",
    "#         \"id_produto\": medicamento.id,\n",
    "#         \"qtde_venda\": qtde_venda,\n",
    "#         \"sub_total\": qtde_venda * medicamento.preco\n",
    "#     }\n",
    "#     self.produtos.append(nova_venda)\n",
    "#     ## Faz a baixa da venda no estoque do medicamento\n",
    "#     bd_medicamentos[medicamento.id]['quantidade_estoque'] -= qtde_venda\n",
    "#     dados_bd['bd_medicamentos'] = bd_medicamentos\n",
    "#     salvar_arquivo(dados_bd)"
   ]
  }
 ],
 "metadata": {
  "kernelspec": {
   "display_name": ".modulo2",
   "language": "python",
   "name": "python3"
  },
  "language_info": {
   "codemirror_mode": {
    "name": "ipython",
    "version": 3
   },
   "file_extension": ".py",
   "mimetype": "text/x-python",
   "name": "python",
   "nbconvert_exporter": "python",
   "pygments_lexer": "ipython3",
   "version": "3.8.10"
  },
  "orig_nbformat": 4
 },
 "nbformat": 4,
 "nbformat_minor": 2
}
